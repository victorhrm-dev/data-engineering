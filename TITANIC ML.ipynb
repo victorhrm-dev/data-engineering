{
 "cells": [
  {
   "cell_type": "code",
   "execution_count": 45,
   "metadata": {},
   "outputs": [],
   "source": [
    "#import das bases *devem estar na mesma pasta do arquivo .ipynb\n",
    "import pandas as pd\n",
    "\n",
    "raw_train = pd.read_csv (r'train.csv')\n",
    "raw_test = pd.read_csv (r'test.csv')\n"
   ]
  },
  {
   "cell_type": "code",
   "execution_count": 46,
   "metadata": {},
   "outputs": [
    {
     "name": "stdout",
     "output_type": "stream",
     "text": [
      "   PassengerId  Survived  Pclass  \\\n",
      "0            1         0       3   \n",
      "1            2         1       1   \n",
      "2            3         1       3   \n",
      "3            4         1       1   \n",
      "4            5         0       3   \n",
      "\n",
      "                                                Name     Sex   Age  SibSp  \\\n",
      "0                            Braund, Mr. Owen Harris    male  22.0      1   \n",
      "1  Cumings, Mrs. John Bradley (Florence Briggs Th...  female  38.0      1   \n",
      "2                             Heikkinen, Miss. Laina  female  26.0      0   \n",
      "3       Futrelle, Mrs. Jacques Heath (Lily May Peel)  female  35.0      1   \n",
      "4                           Allen, Mr. William Henry    male  35.0      0   \n",
      "\n",
      "   Parch            Ticket     Fare Cabin Embarked  \n",
      "0      0         A/5 21171   7.2500   NaN        S  \n",
      "1      0          PC 17599  71.2833   C85        C  \n",
      "2      0  STON/O2. 3101282   7.9250   NaN        S  \n",
      "3      0            113803  53.1000  C123        S  \n",
      "4      0            373450   8.0500   NaN        S  \n",
      "       PassengerId    Survived      Pclass         Age       SibSp  \\\n",
      "count   891.000000  891.000000  891.000000  714.000000  891.000000   \n",
      "mean    446.000000    0.383838    2.308642   29.699118    0.523008   \n",
      "std     257.353842    0.486592    0.836071   14.526497    1.102743   \n",
      "min       1.000000    0.000000    1.000000    0.420000    0.000000   \n",
      "25%     223.500000    0.000000    2.000000   20.125000    0.000000   \n",
      "50%     446.000000    0.000000    3.000000   28.000000    0.000000   \n",
      "75%     668.500000    1.000000    3.000000   38.000000    1.000000   \n",
      "max     891.000000    1.000000    3.000000   80.000000    8.000000   \n",
      "\n",
      "            Parch        Fare  \n",
      "count  891.000000  891.000000  \n",
      "mean     0.381594   32.204208  \n",
      "std      0.806057   49.693429  \n",
      "min      0.000000    0.000000  \n",
      "25%      0.000000    7.910400  \n",
      "50%      0.000000   14.454200  \n",
      "75%      0.000000   31.000000  \n",
      "max      6.000000  512.329200  \n",
      "   PassengerId  Pclass                                          Name     Sex  \\\n",
      "0          892       3                              Kelly, Mr. James    male   \n",
      "1          893       3              Wilkes, Mrs. James (Ellen Needs)  female   \n",
      "2          894       2                     Myles, Mr. Thomas Francis    male   \n",
      "3          895       3                              Wirz, Mr. Albert    male   \n",
      "4          896       3  Hirvonen, Mrs. Alexander (Helga E Lindqvist)  female   \n",
      "\n",
      "    Age  SibSp  Parch   Ticket     Fare Cabin Embarked  \n",
      "0  34.5      0      0   330911   7.8292   NaN        Q  \n",
      "1  47.0      1      0   363272   7.0000   NaN        S  \n",
      "2  62.0      0      0   240276   9.6875   NaN        Q  \n",
      "3  27.0      0      0   315154   8.6625   NaN        S  \n",
      "4  22.0      1      1  3101298  12.2875   NaN        S  \n",
      "       PassengerId      Pclass         Age       SibSp       Parch        Fare\n",
      "count   418.000000  418.000000  332.000000  418.000000  418.000000  417.000000\n",
      "mean   1100.500000    2.265550   30.272590    0.447368    0.392344   35.627188\n",
      "std     120.810458    0.841838   14.181209    0.896760    0.981429   55.907576\n",
      "min     892.000000    1.000000    0.170000    0.000000    0.000000    0.000000\n",
      "25%     996.250000    1.000000   21.000000    0.000000    0.000000    7.895800\n",
      "50%    1100.500000    3.000000   27.000000    0.000000    0.000000   14.454200\n",
      "75%    1204.750000    3.000000   39.000000    1.000000    0.000000   31.500000\n",
      "max    1309.000000    3.000000   76.000000    8.000000    9.000000  512.329200\n",
      "0    549\n",
      "1    342\n",
      "Name: Survived, dtype: int64\n",
      "0\n",
      "3    491\n",
      "1    216\n",
      "2    184\n",
      "Name: Pclass, dtype: int64\n",
      "0\n",
      "male      577\n",
      "female    314\n",
      "Name: Sex, dtype: int64\n",
      "0\n",
      "0    678\n",
      "1    118\n",
      "2     80\n",
      "5      5\n",
      "3      5\n",
      "4      4\n",
      "6      1\n",
      "Name: Parch, dtype: int64\n",
      "0\n",
      "347082      7\n",
      "CA. 2343    7\n",
      "1601        7\n",
      "347088      6\n",
      "CA 2144     6\n",
      "           ..\n",
      "315089      1\n",
      "349233      1\n",
      "17466       1\n",
      "349236      1\n",
      "113056      1\n",
      "Name: Ticket, Length: 681, dtype: int64\n",
      "0\n",
      "B96 B98        4\n",
      "C23 C25 C27    4\n",
      "G6             4\n",
      "D              3\n",
      "C22 C26        3\n",
      "              ..\n",
      "C103           1\n",
      "B4             1\n",
      "E34            1\n",
      "C30            1\n",
      "C110           1\n",
      "Name: Cabin, Length: 147, dtype: int64\n",
      "687\n",
      "S    644\n",
      "C    168\n",
      "Q     77\n",
      "Name: Embarked, dtype: int64\n",
      "2\n"
     ]
    }
   ],
   "source": [
    "#analise exploratoria das variaveis\n",
    "print(raw_train.head())\n",
    "print(raw_train.describe())\n",
    "\n",
    "print(raw_test.head())\n",
    "print(raw_test.describe())\n",
    "\n",
    "#a base test não possui a variavel resposta, portanto será necessario quebrar a base train em treinamento e teste para modelagem\n",
    "\n",
    "print(raw_train['Survived'].value_counts())\n",
    "print(raw_train['Survived'].isna().sum())\n",
    "#2 valores - 0-549 e 1-342, não há valores nulos\n",
    "\n",
    "print(raw_train['Pclass'].value_counts())\n",
    "print(raw_train['Pclass'].isna().sum())\n",
    "#3 valores 3-491 / 1-216 / 2-184, não há valores nulos\n",
    "\n",
    "print(raw_train['Sex'].value_counts())\n",
    "print(raw_train['Sex'].isna().sum())\n",
    "#2 valores - male-577 e female-314, não há valores nulos\n",
    "\n",
    "print(raw_train['Parch'].value_counts())\n",
    "print(raw_train['Parch'].isna().sum())\n",
    "#7 valores, não há valores nulos\n",
    "\n",
    "print(raw_train['Ticket'].value_counts())\n",
    "print(raw_train['Ticket'].isna().sum())\n",
    "#681 valores, esse campo será descartado por não descriminar a base, possui 681 valores unicos em uma base com 891 registros\n",
    "\n",
    "print(raw_train['Cabin'].value_counts())\n",
    "print(raw_train['Cabin'].isna().sum())\n",
    "#147 valores, esse campo será descartado por estar nulo em 687 registros em uma base que contem 891\n",
    "\n",
    "print(raw_train['Embarked'].value_counts())\n",
    "print(raw_train['Embarked'].isna().sum())\n",
    "#3 valores, 2 registros nulos\n"
   ]
  },
  {
   "cell_type": "code",
   "execution_count": 47,
   "metadata": {},
   "outputs": [
    {
     "name": "stdout",
     "output_type": "stream",
     "text": [
      "   PassengerId  Survived  Pclass  \\\n",
      "0            1         0       3   \n",
      "1            2         1       1   \n",
      "2            3         1       3   \n",
      "3            4         1       1   \n",
      "4            5         0       3   \n",
      "\n",
      "                                                Name     Sex   Age  SibSp  \\\n",
      "0                            Braund, Mr. Owen Harris    male  22.0      1   \n",
      "1  Cumings, Mrs. John Bradley (Florence Briggs Th...  female  38.0      1   \n",
      "2                             Heikkinen, Miss. Laina  female  26.0      0   \n",
      "3       Futrelle, Mrs. Jacques Heath (Lily May Peel)  female  35.0      1   \n",
      "4                           Allen, Mr. William Henry    male  35.0      0   \n",
      "\n",
      "   Parch            Ticket     Fare Cabin Embarked  \n",
      "0      0         A/5 21171   7.2500   NaN        S  \n",
      "1      0          PC 17599  71.2833   C85        C  \n",
      "2      0  STON/O2. 3101282   7.9250   NaN        S  \n",
      "3      0            113803  53.1000  C123        S  \n",
      "4      0            373450   8.0500   NaN        S  \n",
      "No     608\n",
      "Yes    283\n",
      "Name: SibSp_cat, dtype: int64\n",
      "No     678\n",
      "Yes    213\n",
      "Name: Parch_cat, dtype: int64\n",
      "adult        623\n",
      "teenneger    127\n",
      "children      77\n",
      "elder         64\n",
      "Name: age_cat, dtype: int64\n",
      "Normal    446\n",
      "low       223\n",
      "High      222\n",
      "Name: fare_cat, dtype: int64\n"
     ]
    }
   ],
   "source": [
    "#data prep e engineering\n",
    "prep_train=raw_train.copy()\n",
    "#\n",
    "print(prep_train.head())\n",
    "#descartando variaveis para o modelo (name por que não tem poder de descriminação na base)\n",
    "del prep_train['Name'],prep_train['Ticket'],prep_train['Cabin']\n",
    "\n",
    "#criacao de variavel categoria a partir de SibSp, no caso dessa variavel e dado o contexo é mais importante saber se ele possuiu parentes no navio ou nao\n",
    "prep_train['SibSp_cat'] = prep_train['SibSp'].apply(lambda x: 'Yes' if x>=1 else 'No' )\n",
    "print(prep_train['SibSp_cat'].value_counts())\n",
    "\n",
    "#criacao de variavel categoria a partir de Parch,no caso dessa variavel e dado o contexo é mais importante saber se ele possuiu filhos no navio ou nao\n",
    "prep_train['Parch_cat'] = prep_train['Parch'].apply(lambda x: 'Yes' if x>=1 else 'No' )\n",
    "print(prep_train['Parch_cat'].value_counts())\n",
    "\n",
    "#descartando as variaveis que foram criadas categorias para elas\n",
    "del prep_train['Parch'],prep_train['SibSp']\n",
    "\n",
    "#Substituicao dos valores nulos em idade pela media\n",
    "prep_train['Age'] = prep_train['Age'].apply(lambda x: 29.7 if x!=x else x )\n",
    "\n",
    "#Substituicao dos valores nulos em idade pela media\n",
    "prep_train['Fare'] = prep_train['Fare'].apply(lambda x: 32.20 if x!=x else x )\n",
    "\n",
    "prep_train['age_cat'] = prep_train['Age'].apply(lambda x: 'children' if x<=14 else ('teenneger' if x<=21 else ('adult'if x<=50 else 'elder')) )\n",
    "print(prep_train['age_cat'].value_counts())\n",
    "\n",
    "#criacao de variavel categoria a partir de fare, utilizando os quartis para divisão low 1 quartil, normal 2 e 3 quartil, high 4 quartil\n",
    "prep_train['fare_cat'] = prep_train['Fare'].apply(lambda x: 'low' if x<=7.91 else ('Normal' if x<=31 else 'High') )\n",
    "print(prep_train['fare_cat'].value_counts())\n",
    "\n",
    "#transformação para categoric\n",
    "prep_train['Pclass'] = prep_train.Pclass.astype(str)\n",
    "\n",
    "#normalizacao das variaveis continuas\n",
    "from sklearn import preprocessing\n",
    "df = prep_train.pop('Age')\n",
    "d = preprocessing.normalize([df])\n",
    "prep_train['Age'] = d[0]\n",
    "\n",
    "df = prep_train.pop('Fare')\n",
    "d = preprocessing.normalize([df])\n",
    "prep_train['Fare'] = d[0]\n",
    "\n",
    "#criacao de dummies para os modelos em que elas são necessarias\n",
    "prep_train_dummies = prep_train.copy()\n",
    "prep_train_dummies = pd.get_dummies(prep_train_dummies)\n"
   ]
  },
  {
   "cell_type": "code",
   "execution_count": 48,
   "metadata": {},
   "outputs": [],
   "source": [
    "#Divisao entre treino e teste\n",
    "import numpy as np\n",
    "msk = np.random.rand(len(prep_train)) < 0.68 # cria uma mascara com as posicoes\n",
    "\n",
    "X_train = prep_train[msk]\n",
    "Y_train = X_train.pop('Survived')\n",
    "X_test = prep_train[~msk]\n",
    "Y_test = X_test.pop('Survived')\n",
    "\n",
    "X_train_dummies = prep_train_dummies[msk]\n",
    "Y_train_dummies = X_train_dummies.pop('Survived')\n",
    "X_test_dummies = prep_train_dummies[~msk]\n",
    "Y_test_dummies = X_test_dummies.pop('Survived')\n"
   ]
  },
  {
   "cell_type": "code",
   "execution_count": 49,
   "metadata": {},
   "outputs": [],
   "source": [
    "#MODELAGEM\n",
    "# será utilizada a acuracia no conjunto de teste como metodo de comparacao dos modelos"
   ]
  },
  {
   "cell_type": "code",
   "execution_count": 50,
   "metadata": {},
   "outputs": [
    {
     "name": "stdout",
     "output_type": "stream",
     "text": [
      "Acuracia do modelo Regressao Logistica no conjunto de treino: 0.81\n",
      "Acuracia do modelo Regressao Logistica no conjunto de teste: 0.76\n"
     ]
    },
    {
     "name": "stderr",
     "output_type": "stream",
     "text": [
      "E:\\Python\\lib\\site-packages\\sklearn\\linear_model\\_logistic.py:940: ConvergenceWarning: lbfgs failed to converge (status=1):\n",
      "STOP: TOTAL NO. of ITERATIONS REACHED LIMIT.\n",
      "\n",
      "Increase the number of iterations (max_iter) or scale the data as shown in:\n",
      "    https://scikit-learn.org/stable/modules/preprocessing.html\n",
      "Please also refer to the documentation for alternative solver options:\n",
      "    https://scikit-learn.org/stable/modules/linear_model.html#logistic-regression\n",
      "  extra_warning_msg=_LOGISTIC_SOLVER_CONVERGENCE_MSG)\n"
     ]
    }
   ],
   "source": [
    "# Importacao do modelo\n",
    "from sklearn.linear_model import LogisticRegression\n",
    "from sklearn import metrics\n",
    "# Instanciamento do modelo\n",
    "logreg = LogisticRegression()\n",
    "# treinamento do modelo\n",
    "logreg.fit(X_train_dummies, Y_train_dummies)\n",
    "#predicao no conjunto de teste\n",
    "y_pred = logreg.predict(X_test_dummies)\n",
    "\n",
    "print('Acuracia do modelo Regressao Logistica no conjunto de treino: {:.2f}'.format(logreg.score(X_train_dummies, Y_train_dummies)))\n",
    "print('Acuracia do modelo Regressao Logistica no conjunto de teste: {:.2f}'.format(logreg.score(X_test_dummies, Y_test_dummies)))\n",
    "#Sem overfitting"
   ]
  },
  {
   "cell_type": "code",
   "execution_count": 51,
   "metadata": {},
   "outputs": [
    {
     "name": "stdout",
     "output_type": "stream",
     "text": [
      "Acuracia do modelo Naive Bayes no conjunto de teste: 0.70\n",
      "Acuracia do modelo Naive Bayes descendente no conjunto de teste: 0.70\n"
     ]
    }
   ],
   "source": [
    "# Importacao do modelo\n",
    "from sklearn.naive_bayes import GaussianNB\n",
    "# Instanciamento do modelo\n",
    "nb = GaussianNB()\n",
    "# treinamento do modelo\n",
    "nb.fit(X_train_dummies, Y_train_dummies);\n",
    "#predicao no conjunto de teste\n",
    "y_pred = nb.predict(X_test_dummies)\n",
    "\n",
    "print('Acuracia do modelo Naive Bayes no conjunto de teste: {:.2f}'.format(nb.score(X_test_dummies, Y_test_dummies)))\n",
    "print('Acuracia do modelo Naive Bayes descendente no conjunto de teste: {:.2f}'.format(nb.score(X_test_dummies, Y_test_dummies)))\n",
    "#Sem overfitting"
   ]
  },
  {
   "cell_type": "code",
   "execution_count": 52,
   "metadata": {},
   "outputs": [
    {
     "name": "stdout",
     "output_type": "stream",
     "text": [
      "Acuracia do modelo Gradiente descendente no conjunto de treino: 0.40\n",
      "Acuracia do modelo Gradiente descendente no conjunto de teste: 0.38\n"
     ]
    }
   ],
   "source": [
    "# Importacao do modelo\n",
    "from sklearn import linear_model\n",
    "# Instanciamento do modelo\n",
    "SGDClf = linear_model.SGDClassifier(max_iter = 1000)\n",
    "# treinamento do modelo\n",
    "SGDClf.fit(X_train_dummies, Y_train_dummies);\n",
    "#predicao no conjunto de teste\n",
    "y_pred = SGDClf.predict(X_test_dummies)\n",
    "\n",
    "print('Acuracia do modelo Gradiente descendente no conjunto de treino: {:.2f}'.format(SGDClf.score(X_train_dummies, Y_train_dummies)))\n",
    "print('Acuracia do modelo Gradiente descendente no conjunto de teste: {:.2f}'.format(SGDClf.score(X_test_dummies, Y_test_dummies)))\n",
    "#Sem overfitting"
   ]
  },
  {
   "cell_type": "code",
   "execution_count": 53,
   "metadata": {},
   "outputs": [
    {
     "name": "stdout",
     "output_type": "stream",
     "text": [
      "Acuracia do modelo KNeighbors no conjunto de treino: 0.76\n",
      "Acuracia do modelo KNeighbors no conjunto de teste: 0.60\n"
     ]
    }
   ],
   "source": [
    "# Importacao do modelo\n",
    "from sklearn.neighbors import KNeighborsClassifier  \n",
    "# Instanciamento do modelo\n",
    "knn = KNeighborsClassifier(n_neighbors = 2)\n",
    "# treinamento do modelo\n",
    "knn.fit(X_train_dummies, Y_train_dummies);\n",
    "#predicao no conjunto de teste\n",
    "y_pred = knn.predict(X_test_dummies)\n",
    "\n",
    "print('Acuracia do modelo KNeighbors no conjunto de treino: {:.2f}'.format(knn.score(X_train_dummies, Y_train_dummies)))\n",
    "print('Acuracia do modelo KNeighbors no conjunto de teste: {:.2f}'.format(knn.score(X_test_dummies, Y_test_dummies)))\n",
    "#Houve overfitting"
   ]
  },
  {
   "cell_type": "code",
   "execution_count": 54,
   "metadata": {},
   "outputs": [
    {
     "name": "stdout",
     "output_type": "stream",
     "text": [
      "Acuracia do modelo Máquina de vetores de suporte no conjunto de treino: 0.80\n",
      "Acuracia do modelo Máquina de vetores de suporte no conjunto de teste: 0.75\n"
     ]
    }
   ],
   "source": [
    "# Importacao do modelo\n",
    "from sklearn import svm  \n",
    "# Instanciamento do modelo\n",
    "clf = svm.SVC(kernel='linear')\n",
    "# treinamento do modelo\n",
    "clf.fit(X_train_dummies, Y_train_dummies);\n",
    "#predicao no conjunto de teste\n",
    "y_pred = clf.predict(X_test_dummies)\n",
    "\n",
    "print('Acuracia do modelo Máquina de vetores de suporte no conjunto de treino: {:.2f}'.format(clf.score(X_train_dummies, Y_train_dummies)))\n",
    "print('Acuracia do modelo Máquina de vetores de suporte no conjunto de teste: {:.2f}'.format(clf.score(X_test_dummies, Y_test_dummies)))\n",
    "#Sem overfitting"
   ]
  },
  {
   "cell_type": "code",
   "execution_count": 55,
   "metadata": {},
   "outputs": [
    {
     "name": "stdout",
     "output_type": "stream",
     "text": [
      "Acuracia do modelo Random Forest no conjunto de treino: 1.00\n",
      "Acuracia do modelo Random Forest no conjunto de teste: 0.79\n"
     ]
    }
   ],
   "source": [
    "# Importacao do modelo\n",
    "from sklearn.ensemble import RandomForestClassifier\n",
    "# Instanciamento do modelo\n",
    "rf = RandomForestClassifier(n_estimators = 10000)\n",
    "# treinamento do modelo\n",
    "rf.fit(X_train_dummies, Y_train_dummies);\n",
    "#predicao no conjunto de teste\n",
    "y_pred = rf.predict(X_test_dummies)\n",
    "\n",
    "print('Acuracia do modelo Random Forest no conjunto de treino: {:.2f}'.format(rf.score(X_train_dummies, Y_train_dummies)))\n",
    "print('Acuracia do modelo Random Forest no conjunto de teste: {:.2f}'.format(rf.score(X_test_dummies, Y_test_dummies)))\n",
    "#Houve overfitting\n"
   ]
  },
  {
   "cell_type": "code",
   "execution_count": 56,
   "metadata": {},
   "outputs": [
    {
     "name": "stdout",
     "output_type": "stream",
     "text": [
      "Acuracia do modelo Random Forest no conjunto de treino: 0.90\n",
      "Acuracia do modelo Random Forest no conjunto de teste: 0.78\n"
     ]
    }
   ],
   "source": [
    "#Retreinando o modelo para evitar o overfitting\n",
    "rf = RandomForestClassifier(n_estimators = 1000,max_depth=10,min_samples_leaf=3)\n",
    "# treinamento do modelo\n",
    "rf.fit(X_train_dummies, Y_train_dummies);\n",
    "#predicao no conjunto de teste\n",
    "y_pred = rf.predict(X_test_dummies)\n",
    "\n",
    "print('Acuracia do modelo Random Forest no conjunto de treino: {:.2f}'.format(rf.score(X_train_dummies, Y_train_dummies)))\n",
    "print('Acuracia do modelo Random Forest no conjunto de teste: {:.2f}'.format(rf.score(X_test_dummies, Y_test_dummies)))"
   ]
  },
  {
   "cell_type": "code",
   "execution_count": 57,
   "metadata": {},
   "outputs": [],
   "source": [
    "#Dado que o Random Forest é o melhor modelo, vamos treinar com toda a base de treino disponivel (891 registros) para predizer a base do desafio"
   ]
  },
  {
   "cell_type": "code",
   "execution_count": 58,
   "metadata": {},
   "outputs": [
    {
     "name": "stdout",
     "output_type": "stream",
     "text": [
      "   PassengerId  Pclass                                          Name     Sex  \\\n",
      "0          892       3                              Kelly, Mr. James    male   \n",
      "1          893       3              Wilkes, Mrs. James (Ellen Needs)  female   \n",
      "2          894       2                     Myles, Mr. Thomas Francis    male   \n",
      "3          895       3                              Wirz, Mr. Albert    male   \n",
      "4          896       3  Hirvonen, Mrs. Alexander (Helga E Lindqvist)  female   \n",
      "\n",
      "    Age  SibSp  Parch   Ticket     Fare Cabin Embarked  \n",
      "0  34.5      0      0   330911   7.8292   NaN        Q  \n",
      "1  47.0      1      0   363272   7.0000   NaN        S  \n",
      "2  62.0      0      0   240276   9.6875   NaN        Q  \n",
      "3  27.0      0      0   315154   8.6625   NaN        S  \n",
      "4  22.0      1      1  3101298  12.2875   NaN        S  \n",
      "No     283\n",
      "Yes    135\n",
      "Name: SibSp_cat, dtype: int64\n",
      "No     324\n",
      "Yes     94\n",
      "Name: Parch_cat, dtype: int64\n",
      "adult        301\n",
      "teenneger     56\n",
      "elder         31\n",
      "children      30\n",
      "Name: age_cat, dtype: int64\n",
      "Normal    195\n",
      "low       114\n",
      "High      109\n",
      "Name: fare_cat, dtype: int64\n"
     ]
    }
   ],
   "source": [
    "#data prep e engineering na base de teste\n",
    "prep_test=raw_test.copy()\n",
    "#\n",
    "print(prep_test.head())\n",
    "#descartando variaveis para o modelo (name por que não tem poder de descriminação na base)\n",
    "del prep_test['Name'],prep_test['Ticket'],prep_test['Cabin']\n",
    "\n",
    "#criacao de variavel categoria a partir de SibSp, no caso dessa variavel e dado o contexo é mais importante saber se ele possuiu parentes no navio ou nao\n",
    "prep_test['SibSp_cat'] = prep_test['SibSp'].apply(lambda x: 'Yes' if x>=1 else 'No' )\n",
    "print(prep_test['SibSp_cat'].value_counts())\n",
    "\n",
    "#criacao de variavel categoria a partir de Parch,no caso dessa variavel e dado o contexo é mais importante saber se ele possuiu filhos no navio ou nao\n",
    "prep_test['Parch_cat'] = prep_test['Parch'].apply(lambda x: 'Yes' if x>=1 else 'No' )\n",
    "print(prep_test['Parch_cat'].value_counts())\n",
    "\n",
    "#descartando as variaveis que foram criadas categorias para elas\n",
    "del prep_test['Parch'],prep_test['SibSp']\n",
    "\n",
    "#Substituicao dos valores nulos em idade pela media\n",
    "prep_test['Age'] = prep_test['Age'].apply(lambda x: 29.7 if x!=x else x )\n",
    "\n",
    "#Substituicao dos valores nulos em idade pela media\n",
    "prep_test['Fare'] = prep_test['Fare'].apply(lambda x: 32.20 if x!=x else x )\n",
    "\n",
    "prep_test['age_cat'] = prep_test['Age'].apply(lambda x: 'children' if x<=14 else ('teenneger' if x<=21 else ('adult'if x<=50 else 'elder')) )\n",
    "print(prep_test['age_cat'].value_counts())\n",
    "\n",
    "#criacao de variavel categoria a partir de fare, utilizando os quartis para divisão low 1 quartil, normal 2 e 3 quartil, high 4 quartil\n",
    "prep_test['fare_cat'] = prep_test['Fare'].apply(lambda x: 'low' if x<=7.91 else ('Normal' if x<=31 else 'High') )\n",
    "print(prep_test['fare_cat'].value_counts())\n",
    "\n",
    "#transformação para categoric\n",
    "prep_test['Pclass'] = prep_test.Pclass.astype(str)\n",
    "\n",
    "#normalizacao das variaveis continuas\n",
    "from sklearn import preprocessing\n",
    "df = prep_test.pop('Age')\n",
    "d = preprocessing.normalize([df])\n",
    "prep_test['Age'] = d[0]\n",
    "\n",
    "df = prep_test.pop('Fare')\n",
    "d = preprocessing.normalize([df])\n",
    "prep_test['Fare'] = d[0]\n",
    "\n",
    "#criacao de dummies para os modelos em que elas são necessarias\n",
    "prep_test_dummies = prep_test.copy()\n",
    "prep_test_dummies = pd.get_dummies(prep_test_dummies)\n"
   ]
  },
  {
   "cell_type": "code",
   "execution_count": 59,
   "metadata": {},
   "outputs": [],
   "source": [
    "X_train_dummies = prep_train_dummies.copy()\n",
    "Y_train_dummies = X_train_dummies.pop('Survived')\n",
    "X_test_dummies = prep_test_dummies"
   ]
  },
  {
   "cell_type": "code",
   "execution_count": 60,
   "metadata": {},
   "outputs": [],
   "source": [
    "# Importacao do modelo\n",
    "from sklearn.ensemble import RandomForestClassifier\n",
    "# Instanciamento do modelo\n",
    "rf = RandomForestClassifier(n_estimators = 1000,max_depth=10,min_samples_leaf=3)\n",
    "# treinamento do modelo\n",
    "rf.fit(X_train_dummies, Y_train_dummies);\n",
    "#predicao no conjunto de teste\n",
    "y_pred = rf.predict(X_test_dummies)\n"
   ]
  },
  {
   "cell_type": "code",
   "execution_count": 61,
   "metadata": {},
   "outputs": [
    {
     "name": "stdout",
     "output_type": "stream",
     "text": [
      "     PassengerId  Survived\n",
      "0            892         0\n",
      "1            893         0\n",
      "2            894         0\n",
      "3            895         0\n",
      "4            896         0\n",
      "..           ...       ...\n",
      "413         1305         0\n",
      "414         1306         1\n",
      "415         1307         0\n",
      "416         1308         0\n",
      "417         1309         0\n",
      "\n",
      "[418 rows x 2 columns]\n"
     ]
    }
   ],
   "source": [
    "df_f = X_test_dummies[['PassengerId']].copy()\n",
    "df_f['Survived'] =y_pred\n",
    "print(df_f)\n",
    "df_f.to_csv('titanic_ml.csv',index=False)"
   ]
  },
  {
   "cell_type": "code",
   "execution_count": null,
   "metadata": {},
   "outputs": [],
   "source": []
  }
 ],
 "metadata": {
  "kernelspec": {
   "display_name": "Python 3",
   "language": "python",
   "name": "python3"
  },
  "language_info": {
   "codemirror_mode": {
    "name": "ipython",
    "version": 3
   },
   "file_extension": ".py",
   "mimetype": "text/x-python",
   "name": "python",
   "nbconvert_exporter": "python",
   "pygments_lexer": "ipython3",
   "version": "3.7.6"
  }
 },
 "nbformat": 4,
 "nbformat_minor": 4
}
