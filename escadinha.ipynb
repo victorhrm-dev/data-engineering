{
 "cells": [
  {
   "cell_type": "code",
   "execution_count": 1,
   "metadata": {},
   "outputs": [],
   "source": [
    "#funcao para verificar se o argumento e uma lista de listas com tamanho fixo e so com inteiros\n",
    "def VerificaArg(m):\n",
    "    #verifica se e uma lista de listas\n",
    "\tif type(m) is list and type(m[0]) is list:\n",
    "\t\tl = len(m[0])\n",
    "\t\tfor x in m:\n",
    "\t\t\t#verifica se todas as listas tem o mesmo \t\t\t\ttamanho\n",
    "\t\t\tif len(x) != l:\n",
    "\t\t\t\treturn 0\n",
    "\t\t\tfor i in x:\n",
    "\t\t\t\t#verifica se todos os elementos das \t\t\t\t\t\tlistas sao inteiros\n",
    "\t\t\t\tif type(i) is not int:\n",
    "\t\t\t\t\treturn 0\n",
    "\t\treturn 1\n",
    "\telse:\n",
    "\t\treturn 0"
   ]
  },
  {
   "cell_type": "code",
   "execution_count": 2,
   "metadata": {},
   "outputs": [],
   "source": [
    "#funcao para deslocar os items em uma lista l k vezes para frente\n",
    "def desloca(l,k):\n",
    "\t#faz uma copia para nao alterar a lista original\n",
    "\tdl=l.copy()\n",
    "\t#desloca k vezes a lista\n",
    "\tfor i in range(k):\n",
    "\t\tdl.insert(0,dl.pop(len(l)-1))\n",
    "\treturn dl"
   ]
  },
  {
   "cell_type": "code",
   "execution_count": 3,
   "metadata": {},
   "outputs": [],
   "source": [
    "#funcao para ajustar toda uma matriz caso tenha ocorrido a escadinha\n",
    "def AjustaEscadinha(m,s):\n",
    "\tfor i in range(len(m)):\n",
    "\t\t#calcula qual deve ser o deslocamento \t\t\t\t\tpara ajustar a lista\n",
    "\t\tsa=(s-i)%len(m[i])\n",
    "\t\t#ajusta a linha dado o shuffle e a posicao\n",
    "\t\tm.insert(i,desloca(m.pop(i),sa))\n",
    "\treturn m"
   ]
  },
  {
   "cell_type": "code",
   "execution_count": 4,
   "metadata": {},
   "outputs": [],
   "source": [
    "#funcao para verificar se o ultimo item de uma lista é a soma de todos os anteriores\n",
    "def VerificaAjuste(m):\n",
    "\tfor l in m:\n",
    "\t\tif int(sum(l)/2) != l[len(l)-1]:\n",
    "\t\t\treturn 0\n",
    "\treturn 1"
   ]
  },
  {
   "cell_type": "code",
   "execution_count": 5,
   "metadata": {},
   "outputs": [],
   "source": [
    "#funcao para verificar se uma matriz é padronizada ou nao, caso seja, verifica se há escadinha, se houver a corrige, se não apenas indica\n",
    "def VerificaEscadinha(m):\n",
    "\t#verifica o argumento passados\n",
    "\tif VerificaArg(m)==1:\n",
    "\t\t#descobre o shuffle\n",
    "\t\t#cacula o valor da coluna totalizadora\n",
    "\t\tt=int(sum(m[0])/2)\n",
    "\t\ttry:\n",
    "\t\t\t#calcula em qual posicao esta a coluna \t\t\t\ttotalizadora\n",
    "\t\t\tp=m[0].index(t)\n",
    "\t\t\t#define o shuffle pela posicao da coluna \t\t\ttotalizadora na 1 lista\n",
    "\t\t\ts=0\n",
    "\t\t\tif p != len(m[0])-1:\n",
    "\t\t\t\ts=p+1\n",
    "\t\t\t#verifica se ja esta no padrao correto\n",
    "\t\t\tif VerificaAjuste(m)==1:\n",
    "\t\t\t\tprint(\"padrao correto identificado\")\n",
    "\t\t\t\treturn m\n",
    "\t\t\telse:\n",
    "\t\t\t\tme = m.copy()\n",
    "\t\t\t\tme=AjustaEscadinha(me,len(me[1])-s)\n",
    "\t\t\t\tif VerificaAjuste(me)==1:\n",
    "\t\t\t\t\tprint(\"padrao escadinha identificado\")\n",
    "\t\t\t\t\treturn me\n",
    "\t\t\t\telse:\n",
    "\t\t\t\t\tprint(\"padrao inutilizavel identificado\")\n",
    "\t\t\t\n",
    "\t\t#nao ha coluna totalizadora\n",
    "\t\texcept:\n",
    "\t\t\tprint(\"padrao inutizavel\")\n",
    "\telse:\n",
    "\t\tprint('objeto invalido')"
   ]
  },
  {
   "cell_type": "code",
   "execution_count": 6,
   "metadata": {},
   "outputs": [
    {
     "name": "stdout",
     "output_type": "stream",
     "text": [
      "padrao correto identificado\n",
      "padrao escadinha identificado\n",
      "padrao inutilizavel identificado\n"
     ]
    }
   ],
   "source": [
    "#exemplos de matriz\n",
    "m1=    [[1,2,3,4,5,15],\n",
    "\t\t[1,2,3,4,5,15],\n",
    "\t\t[1,2,3,4,5,15],\n",
    "\t\t[1,2,3,4,5,15],\n",
    "\t\t[1,2,3,4,5,15]]\n",
    "\t\t\n",
    "me1=   [[15,1,2,3,4,5],\n",
    "\t\t[5,15,1,2,3,4],\n",
    "\t\t[4,5,15,1,2,3],\n",
    "\t\t[3,4,5,15,1,2],\n",
    "\t\t[2,3,4,5,15,1],\n",
    "\t\t[1,2,3,4,5,15],\n",
    "\t\t[15,1,2,3,4,5],\n",
    "\t\t[5,15,1,2,3,4],\n",
    "\t\t[4,5,15,1,2,3],\n",
    "\t\t[3,4,5,15,1,2],\n",
    "\t\t[2,3,4,5,15,1]]\t\n",
    "\t\t\n",
    "\t\t\n",
    "me2=   [[15,1,2,3,4,5],\n",
    "\t\t[5,15,1,2,3,4],\n",
    "\t\t[4,5,15,1,2,3],\n",
    "\t\t[3,4,5,15,1,2],\n",
    "\t\t[2,3,4,5,15,1],\n",
    "\t\t[1,2,3,4,5,15],\n",
    "\t\t[15,1,2,13,4,5], #15 nao é o total da linha\n",
    "\t\t[5,15,1,2,3,4],\n",
    "\t\t[4,5,15,1,2,3],\n",
    "\t\t[3,4,5,15,1,2],\n",
    "\t\t[2,3,4,5,15,1]]\n",
    "\n",
    "VerificaEscadinha(m1)\n",
    "VerificaEscadinha(me1)\n",
    "VerificaEscadinha(me2)\n"
   ]
  },
  {
   "cell_type": "code",
   "execution_count": null,
   "metadata": {},
   "outputs": [],
   "source": []
  }
 ],
 "metadata": {
  "kernelspec": {
   "display_name": "Python 3",
   "language": "python",
   "name": "python3"
  },
  "language_info": {
   "codemirror_mode": {
    "name": "ipython",
    "version": 3
   },
   "file_extension": ".py",
   "mimetype": "text/x-python",
   "name": "python",
   "nbconvert_exporter": "python",
   "pygments_lexer": "ipython3",
   "version": "3.7.6"
  }
 },
 "nbformat": 4,
 "nbformat_minor": 4
}
